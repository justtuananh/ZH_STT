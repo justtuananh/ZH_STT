{
 "cells": [
  {
   "cell_type": "code",
   "execution_count": 10,
   "metadata": {},
   "outputs": [],
   "source": [
    "# Imports\n",
    "import os\n",
    "import time\n",
    "import re\n",
    "import torch\n",
    "import requests\n",
    "import torchaudio\n",
    "import wave\n",
    "import pyaudio\n",
    "from glob import glob #globe is require for batching audio input for STT\n",
    "from model import predict_beamSearch\n",
    "from Happy import CheckMic,script_header\n",
    "\n",
    "from model import predict_greedy,predict_beamSearch,predict_beamSearch_io,predict_greedy_io\n",
    "import sys\n",
    "from os.path import join, realpath\n",
    "\n",
    "\n",
    "# ROOT_DIR = os.path.dirname(os.path.abspath(__file__))\n",
    "\n",
    "# sys.path.append(realpath(join(realpath(__file__), '..', '..')))\n"
   ]
  },
  {
   "cell_type": "code",
   "execution_count": 9,
   "metadata": {},
   "outputs": [],
   "source": [
    "audio_input_file = \"micAudioInput.wav\"\n",
    "audio_output_file = \"ttsAudioOutput.wav\"\n",
    "language = 'en'\n",
    "speaker = 'lj_v2'\n",
    "sample_rate = 16000\n",
    "CHUNK = 1024\n",
    "you_said = \"\"\n",
    "\n"
   ]
  },
  {
   "cell_type": "code",
   "execution_count": 18,
   "metadata": {},
   "outputs": [
    {
     "name": "stdout",
     "output_type": "stream",
     "text": [
      "bot_response= [{'recipient_id': 'Ashutosh', 'text': 'Em đã bật đèn phòng khách ạ.'}]\n",
      "Em đã bật đèn phòng khách ạ.\n"
     ]
    }
   ],
   "source": [
    "str_inp = \"Phòng khách\"\n",
    "rasa_call_response = requests.post(rasa_bot_url,json={\"sender\":\"Ashutosh\",\"message\":str_inp})\n",
    "bot_response = rasa_call_response.json()\n",
    "print(\"bot_response=\",bot_response)\n",
    "    #for i in r.json():\n",
    "#TODO: check other outputs from Bot\n",
    "if (bot_response is None or len(bot_response) == 0):\n",
    "    bot_said = \"I did not quite catch that...\"\n",
    "else:\n",
    "    bot_said = bot_response[0]['text']\n",
    "    print(bot_said)\n"
   ]
  },
  {
   "cell_type": "code",
   "execution_count": null,
   "metadata": {},
   "outputs": [],
   "source": [
    "def receiveData(file: UploadFile= File(...)):\n",
    "    start=datetime.now()\n",
    "    audio_bytes = file.file.read()\n",
    "    with open(\"audio.wav\",\"wb\") as f: \n",
    "        f.write(audio_bytes)\n",
    "    #call voice2text to convert voice recorded to text\n",
    "    # question = predict_greedy(\"audio.wav\")\n",
    "    question = predict_beamSearch(\"audio.wav\")\n",
    "    print (f\"Time voice2text run: {datetime.now()-start}\")\n",
    "\n",
    "    return question"
   ]
  }
 ],
 "metadata": {
  "kernelspec": {
   "display_name": "speaker",
   "language": "python",
   "name": "python3"
  },
  "language_info": {
   "codemirror_mode": {
    "name": "ipython",
    "version": 3
   },
   "file_extension": ".py",
   "mimetype": "text/x-python",
   "name": "python",
   "nbconvert_exporter": "python",
   "pygments_lexer": "ipython3",
   "version": "3.10.11"
  },
  "orig_nbformat": 4
 },
 "nbformat": 4,
 "nbformat_minor": 2
}
